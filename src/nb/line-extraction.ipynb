{
 "cells": [
  {
   "cell_type": "markdown",
   "metadata": {},
   "source": [
    "# Line extraction\n",
    "\n",
    "The idea is to try to eliminate the straight, box lines from an image"
   ]
  },
  {
   "cell_type": "code",
   "execution_count": 1,
   "metadata": {},
   "outputs": [],
   "source": [
    "%matplotlib inline\n",
    "from matplotlib import pyplot as plt\n",
    "from PIL import Image\n",
    "import pytesseract\n",
    "import numpy as np\n",
    "import cv2"
   ]
  },
  {
   "cell_type": "code",
   "execution_count": 15,
   "metadata": {},
   "outputs": [
    {
     "data": {
      "text/plain": [
       "<matplotlib.image.AxesImage at 0x7f7638488b00>"
      ]
     },
     "execution_count": 15,
     "metadata": {},
     "output_type": "execute_result"
    },
    {
     "data": {
      "image/png": "[encoded data removed]",
      "text/plain": [
       "<Figure size 432x288 with 1 Axes>"
      ]
     },
     "metadata": {
      "needs_background": "light"
     },
     "output_type": "display_data"
    }
   ],
   "source": [
    "img_fp = \"../img/last-name.png\"\n",
    "img = cv2.imread(img_fp)\n",
    "plt.imshow(img)"
   ]
  },
  {
   "cell_type": "code",
   "execution_count": 16,
   "metadata": {},
   "outputs": [],
   "source": [
    "height, width, channels = img.shape"
   ]
  },
  {
   "cell_type": "code",
   "execution_count": 17,
   "metadata": {},
   "outputs": [
    {
     "data": {
      "text/plain": [
       "<matplotlib.image.AxesImage at 0x7f763845def0>"
      ]
     },
     "execution_count": 17,
     "metadata": {},
     "output_type": "execute_result"
    },
    {
     "data": {
      "image/png": "[encoded data removed]",
      "text/plain": [
       "<Figure size 432x288 with 1 Axes>"
      ]
     },
     "metadata": {
      "needs_background": "light"
     },
     "output_type": "display_data"
    }
   ],
   "source": [
    "inv = cv2.bitwise_not(img)\n",
    "horizontal_img = inv.copy()\n",
    "vertical_img = inv.copy()\n",
    "\n",
    "kernel = cv2.getStructuringElement(cv2.MORPH_RECT, (int(width*.25), 1))\n",
    "horizontal_img = cv2.erode(horizontal_img, kernel, iterations=1)\n",
    "horizontal_img = cv2.dilate(horizontal_img, kernel, iterations=1)\n",
    "\n",
    "kernel = cv2.getStructuringElement(cv2.MORPH_RECT, (1, 110))\n",
    "vertical_img = cv2.erode(vertical_img, kernel, iterations=1)\n",
    "vertical_img = cv2.dilate(vertical_img, kernel, iterations=1)\n",
    "\n",
    "mask_img = horizontal_img + vertical_img\n",
    "no_border = np.bitwise_or(img, mask_img)\n",
    "\n",
    "cv2.imwrite(\"../output/no_border.png\", no_border)\n",
    "plt.imshow(no_border)"
   ]
  },
  {
   "cell_type": "code",
   "execution_count": 18,
   "metadata": {},
   "outputs": [
    {
     "data": {
      "text/plain": [
       "<matplotlib.image.AxesImage at 0x7f76383b3128>"
      ]
     },
     "execution_count": 18,
     "metadata": {},
     "output_type": "execute_result"
    },
    {
     "data": {
      "image/png": "[encoded data removed]",
      "text/plain": [
       "<Figure size 432x288 with 1 Axes>"
      ]
     },
     "metadata": {
      "needs_background": "light"
     },
     "output_type": "display_data"
    }
   ],
   "source": [
    "gray = cv2.cvtColor(no_border, cv2.COLOR_BGR2GRAY)\n",
    "\n",
    "# check to see if we should apply thresholding to preprocess the\n",
    "# image\n",
    "gray = cv2.threshold(gray, 0, 255, cv2.THRESH_BINARY | cv2.THRESH_OTSU)[1]\n",
    "\n",
    "plt.imshow(gray)"
   ]
  },
  {
   "cell_type": "code",
   "execution_count": 6,
   "metadata": {},
   "outputs": [
    {
     "name": "stdout",
     "output_type": "stream",
     "text": [
      "29012019\n",
      "FECHA OTORGAMIENTO.\n"
     ]
    }
   ],
   "source": [
    "text = pytesseract.image_to_string(gray)\n",
    "print(text)"
   ]
  }
 ],
 "metadata": {
  "kernelspec": {
   "display_name": "Python 3",
   "language": "python",
   "name": "python3"
  },
  "language_info": {
   "codemirror_mode": {
    "name": "ipython",
    "version": 3
   },
   "file_extension": ".py",
   "mimetype": "text/x-python",
   "name": "python",
   "nbconvert_exporter": "python",
   "pygments_lexer": "ipython3",
   "version": "3.6.8"
  }
 },
 "nbformat": 4,
 "nbformat_minor": 2
}
