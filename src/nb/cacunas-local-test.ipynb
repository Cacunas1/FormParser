{
 "cells": [
  {
   "cell_type": "code",
   "execution_count": 1,
   "metadata": {},
   "outputs": [],
   "source": [
    "import sys\n",
    "sys.path.insert(0, '../')\n",
    "import inputFileHandling as ocr\n",
    "import pdfConvert as pdf\n",
    "import os"
   ]
  },
  {
   "cell_type": "code",
   "execution_count": 4,
   "metadata": {},
   "outputs": [
    {
     "name": "stdout",
     "output_type": "stream",
     "text": [
      "E:\\Users\\Cristian.Acuna\\Documents\\POC\\FormParser\\src\\nb\n"
     ]
    }
   ],
   "source": [
    "dir_path = os.getcwd()\n",
    "\n",
    "print(dir_path)"
   ]
  },
  {
   "cell_type": "code",
   "execution_count": 4,
   "metadata": {},
   "outputs": [],
   "source": [
    "pdf.convertPDF(\n",
    "    \"../../input/\",\n",
    "    \"Medical License\",\n",
    "    \"../../output/\"\n",
    ")"
   ]
  },
  {
   "cell_type": "code",
   "execution_count": 2,
   "metadata": {},
   "outputs": [],
   "source": [
    "import templateBinarization as bin"
   ]
  },
  {
   "cell_type": "code",
   "execution_count": 4,
   "metadata": {},
   "outputs": [
    {
     "name": "stdout",
     "output_type": "stream",
     "text": [
      "Image file path:  ../../output/Medical License0.png\n",
      "Image folder content:  ['Medical License0.png', 'Medical License0_binary.png', 'Medical License1.png', 'Medical License1_binary.png', 'Medical License2.png', 'Medical License2_binary.png', 'Medical License3.png', 'Medical License3_binary.png', 'Medical_License0_bin.png', 'Medical_License0_template.png']\n",
      "Output file:  ../../output/Medical License0_binary.png\n",
      "Image file path:  ../../output/Medical License1.png\n",
      "Image folder content:  ['Medical License0.png', 'Medical License0_binary.png', 'Medical License1.png', 'Medical License1_binary.png', 'Medical License2.png', 'Medical License2_binary.png', 'Medical License3.png', 'Medical License3_binary.png', 'Medical_License0_bin.png', 'Medical_License0_template.png']\n",
      "Output file:  ../../output/Medical License1_binary.png\n",
      "Image file path:  ../../output/Medical License2.png\n",
      "Image folder content:  ['Medical License0.png', 'Medical License0_binary.png', 'Medical License1.png', 'Medical License1_binary.png', 'Medical License2.png', 'Medical License2_binary.png', 'Medical License3.png', 'Medical License3_binary.png', 'Medical_License0_bin.png', 'Medical_License0_template.png']\n",
      "Output file:  ../../output/Medical License2_binary.png\n",
      "Image file path:  ../../output/Medical License3.png\n",
      "Image folder content:  ['Medical License0.png', 'Medical License0_binary.png', 'Medical License1.png', 'Medical License1_binary.png', 'Medical License2.png', 'Medical License2_binary.png', 'Medical License3.png', 'Medical License3_binary.png', 'Medical_License0_bin.png', 'Medical_License0_template.png']\n",
      "Output file:  ../../output/Medical License3_binary.png\n"
     ]
    }
   ],
   "source": [
    "for i in range(4):\n",
    "    bin.binarize(\n",
    "        \"../../output/\",\n",
    "        \"Medical License\" + str(i),\n",
    "        \"../../output/\",\n",
    "        True\n",
    "    )"
   ]
  },
  {
   "cell_type": "code",
   "execution_count": null,
   "metadata": {},
   "outputs": [],
   "source": []
  }
 ],
 "metadata": {
  "kernelspec": {
   "display_name": "Python 3",
   "language": "python",
   "name": "python3"
  },
  "language_info": {
   "codemirror_mode": {
    "name": "ipython",
    "version": 3
   },
   "file_extension": ".py",
   "mimetype": "text/x-python",
   "name": "python",
   "nbconvert_exporter": "python",
   "pygments_lexer": "ipython3",
   "version": "3.7.2"
  }
 },
 "nbformat": 4,
 "nbformat_minor": 2
}
